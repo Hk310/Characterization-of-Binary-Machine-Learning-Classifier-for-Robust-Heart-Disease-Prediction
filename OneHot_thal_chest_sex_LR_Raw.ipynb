{
  "cells": [
    {
      "metadata": {
        "trusted": true
      },
      "cell_type": "code",
      "source": "# Import libraries\n\nimport numpy as np\nimport matplotlib.pyplot as plot\nimport pandas as pd\nfrom sklearn.linear_model import LogisticRegression\nfrom sklearn import preprocessing\nfrom sklearn.preprocessing import MinMaxScaler\nimport csv",
      "execution_count": 4,
      "outputs": []
    },
    {
      "metadata": {
        "trusted": true
      },
      "cell_type": "code",
      "source": "# Load the data and merge the training files into a single training file\n\ndf_train = pd.read_csv('train_values.csv')\ndf_label = pd.read_csv('Train_Labels.csv')\n\n# Concat an output label from \"train_labels\" to \"train_values\" file.\n\ntemp = pd.concat([df_train, df_label['heart_disease_present']], axis=1)\ndf_train = temp\n\n# Change from string to number a \"thal\" variable in training file.\ndf_train['thal']=df_train['thal'].map({'normal':0,'reversible_defect':1,'fixed_defect':2})\n\n# Change from string to number a \"thal\" variable in test file.\ndf_test=pd.read_csv('test_values.csv')\ndf_test['thal']=df_test['thal'].map({'normal':0,'reversible_defect':1,'fixed_defect':2})\npd.DataFrame(df_test).to_csv('test.csv', index=False)\nprint(df_test.shape)\n\n# Generate a processed training file\npd.DataFrame(df_train).to_csv('training.csv', index=False)\nprint(df_train.shape)\n",
      "execution_count": 5,
      "outputs": [
        {
          "output_type": "stream",
          "text": "(90, 14)\n(180, 15)\n",
          "name": "stdout"
        }
      ]
    },
    {
      "metadata": {
        "trusted": true
      },
      "cell_type": "code",
      "source": "x = df_train.iloc[:, 1:14]\n#print(x)\n\nthal_dummies=(pd.get_dummies(x.values[:,1]))\nthal_dummies_temp = pd.DataFrame(thal_dummies)\n\nchest_dummies=(pd.get_dummies(x.values[:,3]))\nchest_dummies_temp = pd.DataFrame(chest_dummies)\n\nsex_dummies=(pd.get_dummies(x.values[:,9]))\nsex_dummies_temp = pd.DataFrame(sex_dummies)\n\n#angina_dummies=(pd.get_dummies(x.values[:,12]))\n#print(sex_dummies)\n#angina_dummies_temp = pd.DataFrame(angina_dummies)\n#print(vessels_dummies_temp)\n\n\n#print(df_train)",
      "execution_count": 6,
      "outputs": [
        {
          "output_type": "stream",
          "text": "(180, 21)\n",
          "name": "stdout"
        }
      ]
    },
    {
      "metadata": {
        "trusted": true
      },
      "cell_type": "code",
      "source": "z = df_test.iloc[:,1:14]\nthal_dummies=(pd.get_dummies(z.values[:,1]))\nthal_dummies_temp = pd.DataFrame(thal_dummies)\n\nchest_dummies=(pd.get_dummies(z.values[:,3]))\nchest_dummies_temp = pd.DataFrame(chest_dummies)\n\nsex_dummies=(pd.get_dummies(z.values[:,9]))\nsex_dummies_temp = pd.DataFrame(sex_dummies)\n\n#angina_dummies=(pd.get_dummies(z.values[:,12]))\n#print(sex_dummies)\n#angina_dummies_temp = pd.DataFrame(angina_dummies)\n#print(vessels_dummies_temp)\n\n\n#print(df_test)",
      "execution_count": 7,
      "outputs": [
        {
          "output_type": "stream",
          "text": "(90, 20)\n",
          "name": "stdout"
        }
      ]
    },
    {
      "metadata": {
        "trusted": true
      },
      "cell_type": "code",
      "source": "#Create a feature Vector \"X\" and label Vector \"y\"\nX = df_train.iloc[:,1:-1].values\nprint(X.shape)\nprint(X)\n\ny = df_train.iloc[:, -1].values\nprint(y.shape)\nprint(y)\n\nz = df_test.iloc[:,1:20].values\nprint(z.shape)\nprint(z)",
      "execution_count": 8,
      "outputs": [
        {
          "output_type": "stream",
          "text": "(180, 19)\n[[  1.   1.   0. ...  45. 170.   0.]\n [  2.   1.   0. ...  54. 158.   0.]\n [  1.   1.   0. ...  77. 162.   1.]\n ...\n [  2.   0.   1. ...  64. 131.   1.]\n [  1.   1.   0. ...  48. 175.   0.]\n [  1.   1.   0. ...  54. 163.   0.]]\n(180,)\n[0 0 1 1 0 0 1 1 1 0 0 0 1 0 1 1 0 1 0 1 0 0 0 0 0 0 0 0 1 0 0 1 1 0 1 0 0\n 0 0 1 0 0 0 0 0 1 0 0 1 0 1 0 1 1 1 0 1 1 0 1 0 1 1 0 0 1 1 0 0 1 0 0 0 0\n 1 1 0 1 1 1 0 1 1 1 0 1 0 1 0 0 0 1 0 1 0 0 1 0 0 0 0 0 1 0 0 0 0 1 0 1 0\n 0 1 1 0 0 0 1 1 1 1 0 0 0 1 0 0 0 1 1 0 0 0 1 1 0 1 1 0 0 1 0 0 1 1 0 0 1\n 1 1 0 0 1 1 1 1 0 0 0 1 0 1 1 1 0 0 0 1 0 0 1 1 1 1 0 1 1 1 0 0]\n(90, 19)\n[[  2.   0.   1. ...  59. 159.   0.]\n [  1.   1.   0. ...  35. 182.   0.]\n [  2.   0.   1. ...  43. 120.   1.]\n ...\n [  1.   1.   0. ...  42. 178.   0.]\n [  2.   1.   0. ...  46. 152.   1.]\n [  1.   1.   0. ...  43. 171.   0.]]\n",
          "name": "stdout"
        }
      ]
    },
    {
      "metadata": {
        "trusted": true
      },
      "cell_type": "code",
      "source": "clf = LogisticRegression(penalty='l2', class_weight='balanced',random_state=0, solver='lbfgs', tol=0.00001, C=1.0, fit_intercept=True, max_iter=30000000).fit(X, y)\na=clf.predict_proba(z[:, :])\ndf_temp = pd.DataFrame(a)\n#print(df_temp)\ntemp = pd.concat([df_test['patient_id'], df_temp[1]], axis=1)\ntemp.columns = ['patient_id', 'heart_disease_present']\nprint(temp)\n\npd.DataFrame(temp).to_csv('LR_OneHot_thal_chest_sex_Raw_1507_1434.csv', index=False)",
      "execution_count": 9,
      "outputs": [
        {
          "output_type": "stream",
          "text": "   patient_id  heart_disease_present\n0      olalu7               0.436488\n1      z9n6mx               0.088175\n2      5k4413               0.951756\n3      mrg7q5               0.042399\n4      uki4do               0.937284\n5      kev1sk               0.023708\n6      9n6let               0.126161\n7      jxmtyg               0.960606\n8      51s2ff               0.232840\n9      wi9mcs               0.122554\n10     741h4l               0.390870\n11     1ef64a               0.548095\n12     wa2ix6               0.401657\n13     8167zl               0.993693\n14     n6nldr               0.119862\n15     ph85fp               0.037441\n16     jfan5p               0.009941\n17     7c4iz1               0.020270\n18     ukigml               0.927417\n19     flwvnq               0.045218\n20     5i4fw2               0.975741\n21     du1pqf               0.208250\n22     vs68qz               0.214220\n23     pfyez0               0.016264\n24     azvkw2               0.438829\n25     cird1i               0.942530\n26     3bg32t               0.316840\n27     xzd050               0.190594\n28     eyi8et               0.664034\n29     ce4x2h               0.019087\n..        ...                    ...\n60     tgpy9u               0.103716\n61     pf5wp6               0.964721\n62     cj8vj2               0.238927\n63     9w6d9j               0.986732\n64     3l89wd               0.101982\n65     83a6x1               0.911454\n66     oua0gr               0.847619\n67     j0hl96               0.633908\n68     dlkzyg               0.752864\n69     r0w4a8               0.816061\n70     46dlca               0.046098\n71     9fkefu               0.992656\n72     6uk6kl               0.977537\n73     c7olxr               0.989722\n74     iiyx0q               0.993007\n75     25vetx               0.979705\n76     073vc5               0.932785\n77     18abn0               0.913823\n78     v5fsfs               0.334319\n79     2ekoo7               0.546269\n80     5bbknr               0.581624\n81     hr6pjx               0.042581\n82     r4hsar               0.563128\n83     4cezdf               0.874444\n84     palhcc               0.357320\n85     bwoyg6               0.018893\n86     j8i7ve               0.876993\n87     t2zn1n               0.475361\n88     oxf8kj               0.303067\n89     aeiv0y               0.365776\n\n[90 rows x 2 columns]\n",
          "name": "stdout"
        }
      ]
    }
  ],
  "metadata": {
    "kernelspec": {
      "name": "python36",
      "display_name": "Python 3.6",
      "language": "python"
    },
    "language_info": {
      "mimetype": "text/x-python",
      "nbconvert_exporter": "python",
      "name": "python",
      "pygments_lexer": "ipython3",
      "version": "3.6.6",
      "file_extension": ".py",
      "codemirror_mode": {
        "version": 3,
        "name": "ipython"
      }
    }
  },
  "nbformat": 4,
  "nbformat_minor": 2
}